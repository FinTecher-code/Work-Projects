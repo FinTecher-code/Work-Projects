{
 "cells": [
  {
   "cell_type": "code",
   "execution_count": 1,
   "id": "3d67d955",
   "metadata": {},
   "outputs": [],
   "source": [
    "import pandas as pd"
   ]
  },
  {
   "cell_type": "markdown",
   "id": "7c278fd8",
   "metadata": {},
   "source": [
    "### 1. 批量读取多个Excel表"
   ]
  },
  {
   "cell_type": "code",
   "execution_count": 2,
   "id": "d4434d1b",
   "metadata": {},
   "outputs": [],
   "source": [
    "df_list = pd.read_excel(\"采购表.xlsx\", sheet_name=None, parse_dates=False)"
   ]
  },
  {
   "cell_type": "code",
   "execution_count": 3,
   "id": "2e391cc7",
   "metadata": {},
   "outputs": [
    {
     "data": {
      "text/html": [
       "<div>\n",
       "<style scoped>\n",
       "    .dataframe tbody tr th:only-of-type {\n",
       "        vertical-align: middle;\n",
       "    }\n",
       "\n",
       "    .dataframe tbody tr th {\n",
       "        vertical-align: top;\n",
       "    }\n",
       "\n",
       "    .dataframe thead th {\n",
       "        text-align: right;\n",
       "    }\n",
       "</style>\n",
       "<table border=\"1\" class=\"dataframe\">\n",
       "  <thead>\n",
       "    <tr style=\"text-align: right;\">\n",
       "      <th></th>\n",
       "      <th>采购日期</th>\n",
       "      <th>采购物品</th>\n",
       "      <th>采购数量</th>\n",
       "      <th>采购金额</th>\n",
       "    </tr>\n",
       "  </thead>\n",
       "  <tbody>\n",
       "    <tr>\n",
       "      <th>0</th>\n",
       "      <td>2018-01-06</td>\n",
       "      <td>投影仪</td>\n",
       "      <td>5台</td>\n",
       "      <td>2000</td>\n",
       "    </tr>\n",
       "    <tr>\n",
       "      <th>1</th>\n",
       "      <td>2018-01-10</td>\n",
       "      <td>马克笔</td>\n",
       "      <td>5盒</td>\n",
       "      <td>300</td>\n",
       "    </tr>\n",
       "    <tr>\n",
       "      <th>2</th>\n",
       "      <td>2018-01-15</td>\n",
       "      <td>打印机</td>\n",
       "      <td>1台</td>\n",
       "      <td>298</td>\n",
       "    </tr>\n",
       "  </tbody>\n",
       "</table>\n",
       "</div>"
      ],
      "text/plain": [
       "        采购日期 采购物品 采购数量  采购金额\n",
       "0 2018-01-06  投影仪   5台  2000\n",
       "1 2018-01-10  马克笔   5盒   300\n",
       "2 2018-01-15  打印机   1台   298"
      ]
     },
     "execution_count": 3,
     "metadata": {},
     "output_type": "execute_result"
    }
   ],
   "source": [
    "df_list['1月'].head(3)"
   ]
  },
  {
   "cell_type": "code",
   "execution_count": 4,
   "id": "b50bfd68",
   "metadata": {},
   "outputs": [
    {
     "data": {
      "text/html": [
       "<div>\n",
       "<style scoped>\n",
       "    .dataframe tbody tr th:only-of-type {\n",
       "        vertical-align: middle;\n",
       "    }\n",
       "\n",
       "    .dataframe tbody tr th {\n",
       "        vertical-align: top;\n",
       "    }\n",
       "\n",
       "    .dataframe thead th {\n",
       "        text-align: right;\n",
       "    }\n",
       "</style>\n",
       "<table border=\"1\" class=\"dataframe\">\n",
       "  <thead>\n",
       "    <tr style=\"text-align: right;\">\n",
       "      <th></th>\n",
       "      <th>采购日期</th>\n",
       "      <th>采购物品</th>\n",
       "      <th>采购数量</th>\n",
       "      <th>采购金额</th>\n",
       "    </tr>\n",
       "  </thead>\n",
       "  <tbody>\n",
       "    <tr>\n",
       "      <th>0</th>\n",
       "      <td>2018-02-02</td>\n",
       "      <td>文件柜</td>\n",
       "      <td>3个</td>\n",
       "      <td>500</td>\n",
       "    </tr>\n",
       "    <tr>\n",
       "      <th>1</th>\n",
       "      <td>2018-02-04</td>\n",
       "      <td>超市货架</td>\n",
       "      <td>4个</td>\n",
       "      <td>560</td>\n",
       "    </tr>\n",
       "    <tr>\n",
       "      <th>2</th>\n",
       "      <td>2018-02-06</td>\n",
       "      <td>胶带</td>\n",
       "      <td>5卷</td>\n",
       "      <td>40</td>\n",
       "    </tr>\n",
       "  </tbody>\n",
       "</table>\n",
       "</div>"
      ],
      "text/plain": [
       "        采购日期  采购物品 采购数量  采购金额\n",
       "0 2018-02-02   文件柜   3个   500\n",
       "1 2018-02-04  超市货架   4个   560\n",
       "2 2018-02-06    胶带   5卷    40"
      ]
     },
     "execution_count": 4,
     "metadata": {},
     "output_type": "execute_result"
    }
   ],
   "source": [
    "df_list['2月'].head(3)"
   ]
  },
  {
   "cell_type": "markdown",
   "id": "c16ffb7c",
   "metadata": {},
   "source": [
    "### 2. 合并多个工作表到1个"
   ]
  },
  {
   "cell_type": "code",
   "execution_count": 5,
   "id": "4d293983",
   "metadata": {},
   "outputs": [],
   "source": [
    "df_all = pd.concat(df_list.values())"
   ]
  },
  {
   "cell_type": "code",
   "execution_count": 6,
   "id": "076db36a",
   "metadata": {},
   "outputs": [
    {
     "data": {
      "text/plain": [
       "(66, 4)"
      ]
     },
     "execution_count": 6,
     "metadata": {},
     "output_type": "execute_result"
    }
   ],
   "source": [
    "df_all.shape"
   ]
  },
  {
   "cell_type": "code",
   "execution_count": 8,
   "id": "86f66d24",
   "metadata": {},
   "outputs": [
    {
     "data": {
      "text/html": [
       "<div>\n",
       "<style scoped>\n",
       "    .dataframe tbody tr th:only-of-type {\n",
       "        vertical-align: middle;\n",
       "    }\n",
       "\n",
       "    .dataframe tbody tr th {\n",
       "        vertical-align: top;\n",
       "    }\n",
       "\n",
       "    .dataframe thead th {\n",
       "        text-align: right;\n",
       "    }\n",
       "</style>\n",
       "<table border=\"1\" class=\"dataframe\">\n",
       "  <thead>\n",
       "    <tr style=\"text-align: right;\">\n",
       "      <th></th>\n",
       "      <th>采购日期</th>\n",
       "      <th>采购物品</th>\n",
       "      <th>采购数量</th>\n",
       "      <th>采购金额</th>\n",
       "    </tr>\n",
       "  </thead>\n",
       "  <tbody>\n",
       "    <tr>\n",
       "      <th>2</th>\n",
       "      <td>2018-01-15</td>\n",
       "      <td>打印机</td>\n",
       "      <td>1台</td>\n",
       "      <td>298</td>\n",
       "    </tr>\n",
       "    <tr>\n",
       "      <th>12</th>\n",
       "      <td>2018-02-26</td>\n",
       "      <td>文件柜</td>\n",
       "      <td>5个</td>\n",
       "      <td>700</td>\n",
       "    </tr>\n",
       "    <tr>\n",
       "      <th>0</th>\n",
       "      <td>2018-05-05</td>\n",
       "      <td>点钞机</td>\n",
       "      <td>1台</td>\n",
       "      <td>349</td>\n",
       "    </tr>\n",
       "  </tbody>\n",
       "</table>\n",
       "</div>"
      ],
      "text/plain": [
       "         采购日期 采购物品 采购数量  采购金额\n",
       "2  2018-01-15  打印机   1台   298\n",
       "12 2018-02-26  文件柜   5个   700\n",
       "0  2018-05-05  点钞机   1台   349"
      ]
     },
     "execution_count": 8,
     "metadata": {},
     "output_type": "execute_result"
    }
   ],
   "source": [
    "df_all.sample(3)  ##随机选取若干行"
   ]
  },
  {
   "cell_type": "code",
   "execution_count": 9,
   "id": "5c47c9e7",
   "metadata": {},
   "outputs": [
    {
     "data": {
      "text/plain": [
       "采购日期    datetime64[ns]\n",
       "采购物品            object\n",
       "采购数量            object\n",
       "采购金额             int64\n",
       "dtype: object"
      ]
     },
     "execution_count": 9,
     "metadata": {},
     "output_type": "execute_result"
    }
   ],
   "source": [
    "df_all.dtypes"
   ]
  },
  {
   "cell_type": "markdown",
   "id": "0381f4d7",
   "metadata": {},
   "source": [
    "### 3. 按采购物品分组写出到不同的工作表"
   ]
  },
  {
   "cell_type": "code",
   "execution_count": 10,
   "id": "f7fbb77d",
   "metadata": {},
   "outputs": [],
   "source": [
    "excel_writer = pd.ExcelWriter(\n",
    "    '采购表-按采购物品.xlsx', datetime_format=\"YYYY-MM-DD\")"
   ]
  },
  {
   "cell_type": "code",
   "execution_count": 11,
   "id": "ae9b4832",
   "metadata": {},
   "outputs": [],
   "source": [
    "for product, df in df_all.groupby(\"采购物品\"):\n",
    "    df.to_excel(excel_writer, product, index=False)"
   ]
  },
  {
   "cell_type": "code",
   "execution_count": 12,
   "id": "7468a482",
   "metadata": {},
   "outputs": [],
   "source": [
    "excel_writer.save()"
   ]
  },
  {
   "cell_type": "code",
   "execution_count": null,
   "id": "a7d4d896",
   "metadata": {},
   "outputs": [],
   "source": []
  }
 ],
 "metadata": {
  "kernelspec": {
   "display_name": "Python 3",
   "language": "python",
   "name": "python3"
  },
  "language_info": {
   "codemirror_mode": {
    "name": "ipython",
    "version": 3
   },
   "file_extension": ".py",
   "mimetype": "text/x-python",
   "name": "python",
   "nbconvert_exporter": "python",
   "pygments_lexer": "ipython3",
   "version": "3.9.13"
  }
 },
 "nbformat": 4,
 "nbformat_minor": 5
}
