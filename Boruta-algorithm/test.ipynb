{
 "cells": [
  {
   "cell_type": "code",
   "execution_count": 37,
   "metadata": {},
   "outputs": [
    {
     "data": {
      "text/html": [
       "<div>\n",
       "<style scoped>\n",
       "    .dataframe tbody tr th:only-of-type {\n",
       "        vertical-align: middle;\n",
       "    }\n",
       "\n",
       "    .dataframe tbody tr th {\n",
       "        vertical-align: top;\n",
       "    }\n",
       "\n",
       "    .dataframe thead th {\n",
       "        text-align: right;\n",
       "    }\n",
       "</style>\n",
       "<table border=\"1\" class=\"dataframe\">\n",
       "  <thead>\n",
       "    <tr style=\"text-align: right;\">\n",
       "      <th></th>\n",
       "      <th>age</th>\n",
       "      <th>height</th>\n",
       "      <th>weight</th>\n",
       "    </tr>\n",
       "  </thead>\n",
       "  <tbody>\n",
       "    <tr>\n",
       "      <th>0</th>\n",
       "      <td>25</td>\n",
       "      <td>182</td>\n",
       "      <td>75</td>\n",
       "    </tr>\n",
       "    <tr>\n",
       "      <th>1</th>\n",
       "      <td>32</td>\n",
       "      <td>176</td>\n",
       "      <td>71</td>\n",
       "    </tr>\n",
       "    <tr>\n",
       "      <th>2</th>\n",
       "      <td>47</td>\n",
       "      <td>174</td>\n",
       "      <td>78</td>\n",
       "    </tr>\n",
       "    <tr>\n",
       "      <th>3</th>\n",
       "      <td>51</td>\n",
       "      <td>168</td>\n",
       "      <td>72</td>\n",
       "    </tr>\n",
       "    <tr>\n",
       "      <th>4</th>\n",
       "      <td>62</td>\n",
       "      <td>181</td>\n",
       "      <td>86</td>\n",
       "    </tr>\n",
       "  </tbody>\n",
       "</table>\n",
       "</div>"
      ],
      "text/plain": [
       "   age  height  weight\n",
       "0   25     182      75\n",
       "1   32     176      71\n",
       "2   47     174      78\n",
       "3   51     168      72\n",
       "4   62     181      86"
      ]
     },
     "execution_count": 37,
     "metadata": {},
     "output_type": "execute_result"
    }
   ],
   "source": [
    "import pandas as pd\n",
    "X = pd.DataFrame({'age':[25, 32, 47, 51, 62],\n",
    "                  'height':[182, 176, 174, 168, 181],\n",
    "                  'weight': [75, 71, 78, 72, 86]})\n",
    "X"
   ]
  },
  {
   "cell_type": "code",
   "execution_count": 38,
   "metadata": {},
   "outputs": [
    {
     "data": {
      "text/plain": [
       "0    20\n",
       "1    32\n",
       "2    45\n",
       "3    55\n",
       "4    61\n",
       "Name: income, dtype: int64"
      ]
     },
     "execution_count": 38,
     "metadata": {},
     "output_type": "execute_result"
    }
   ],
   "source": [
    "y=pd.Series([20, 32, 45, 55, 61],name='income')\n",
    "y"
   ]
  },
  {
   "cell_type": "code",
   "execution_count": 39,
   "metadata": {},
   "outputs": [
    {
     "data": {
      "text/html": [
       "<div>\n",
       "<style scoped>\n",
       "    .dataframe tbody tr th:only-of-type {\n",
       "        vertical-align: middle;\n",
       "    }\n",
       "\n",
       "    .dataframe tbody tr th {\n",
       "        vertical-align: top;\n",
       "    }\n",
       "\n",
       "    .dataframe thead th {\n",
       "        text-align: right;\n",
       "    }\n",
       "</style>\n",
       "<table border=\"1\" class=\"dataframe\">\n",
       "  <thead>\n",
       "    <tr style=\"text-align: right;\">\n",
       "      <th></th>\n",
       "      <th>age</th>\n",
       "      <th>height</th>\n",
       "      <th>weight</th>\n",
       "      <th>shadow_age</th>\n",
       "      <th>shadow_height</th>\n",
       "      <th>shadow_weight</th>\n",
       "    </tr>\n",
       "  </thead>\n",
       "  <tbody>\n",
       "    <tr>\n",
       "      <th>0</th>\n",
       "      <td>25</td>\n",
       "      <td>182</td>\n",
       "      <td>75</td>\n",
       "      <td>32</td>\n",
       "      <td>168</td>\n",
       "      <td>71</td>\n",
       "    </tr>\n",
       "    <tr>\n",
       "      <th>1</th>\n",
       "      <td>32</td>\n",
       "      <td>176</td>\n",
       "      <td>71</td>\n",
       "      <td>62</td>\n",
       "      <td>176</td>\n",
       "      <td>75</td>\n",
       "    </tr>\n",
       "    <tr>\n",
       "      <th>2</th>\n",
       "      <td>47</td>\n",
       "      <td>174</td>\n",
       "      <td>78</td>\n",
       "      <td>47</td>\n",
       "      <td>174</td>\n",
       "      <td>72</td>\n",
       "    </tr>\n",
       "    <tr>\n",
       "      <th>3</th>\n",
       "      <td>51</td>\n",
       "      <td>168</td>\n",
       "      <td>72</td>\n",
       "      <td>25</td>\n",
       "      <td>182</td>\n",
       "      <td>86</td>\n",
       "    </tr>\n",
       "    <tr>\n",
       "      <th>4</th>\n",
       "      <td>62</td>\n",
       "      <td>181</td>\n",
       "      <td>86</td>\n",
       "      <td>51</td>\n",
       "      <td>181</td>\n",
       "      <td>78</td>\n",
       "    </tr>\n",
       "  </tbody>\n",
       "</table>\n",
       "</div>"
      ],
      "text/plain": [
       "   age  height  weight  shadow_age  shadow_height  shadow_weight\n",
       "0   25     182      75          32            168             71\n",
       "1   32     176      71          62            176             75\n",
       "2   47     174      78          47            174             72\n",
       "3   51     168      72          25            182             86\n",
       "4   62     181      86          51            181             78"
      ]
     },
     "execution_count": 39,
     "metadata": {},
     "output_type": "execute_result"
    }
   ],
   "source": [
    "import numpy as np\n",
    "### make X_shadow by randomly permuting each column of X\n",
    "np.random.seed(42)\n",
    "X_shadow = X.apply(np.random.permutation)\n",
    "X_shadow.columns = ['shadow_' + feat for feat in X.columns]\n",
    "### make X_boruta by appending X_shadow to X\n",
    "X_boruta = pd.concat([X, X_shadow], axis = 1)\n",
    "X_boruta"
   ]
  },
  {
   "cell_type": "code",
   "execution_count": 40,
   "metadata": {},
   "outputs": [
    {
     "data": {
      "text/plain": [
       "array([ True, False, False])"
      ]
     },
     "execution_count": 40,
     "metadata": {},
     "output_type": "execute_result"
    }
   ],
   "source": [
    "from sklearn.ensemble import RandomForestRegressor\n",
    "\n",
    "### fit a random forest (suggested max_depth between 3 and 7)\n",
    "forest = RandomForestRegressor(max_depth = 5, random_state = 42)\n",
    "forest.fit(X_boruta, y)\n",
    "\n",
    "### store feature importances\n",
    "feat_imp_X = forest.feature_importances_[:len(X.columns)]\n",
    "feat_imp_shadow = forest.feature_importances_[len(X.columns):]\n",
    "\n",
    "### compute hits\n",
    "hits = feat_imp_X > feat_imp_shadow.max()\n",
    "hits"
   ]
  },
  {
   "cell_type": "code",
   "execution_count": 41,
   "metadata": {},
   "outputs": [
    {
     "data": {
      "text/plain": [
       "0    0.281124\n",
       "1    0.158089\n",
       "2    0.092546\n",
       "0    0.101621\n",
       "1    0.211820\n",
       "2    0.154799\n",
       "dtype: float64"
      ]
     },
     "execution_count": 41,
     "metadata": {},
     "output_type": "execute_result"
    }
   ],
   "source": [
    "feat_imp = pd.concat([pd.Series(feat_imp_X.tolist()), pd.Series(feat_imp_shadow.tolist())], axis = 0)\n",
    "feat_imp"
   ]
  },
  {
   "cell_type": "code",
   "execution_count": 42,
   "metadata": {},
   "outputs": [
    {
     "name": "stdout",
     "output_type": "stream",
     "text": [
      "[18.  5.  0.]\n"
     ]
    }
   ],
   "source": [
    "### initialize hits counter\n",
    "hits = np.zeros((len(X.columns)))\n",
    "### repeat 20 times\n",
    "for iter_ in range(20):\n",
    "   ### make X_shadow by randomly permuting each column of X\n",
    "   np.random.seed(iter_)\n",
    "   X_shadow = X.apply(np.random.permutation)\n",
    "   X_boruta = pd.concat([X, X_shadow], axis = 1)\n",
    "   ### fit a random forest (suggested max_depth between 3 and 7)\n",
    "   forest = RandomForestRegressor(max_depth = 5, random_state = 42)\n",
    "   forest.fit(X_boruta, y)\n",
    "   ### store feature importance\n",
    "   feat_imp_X = forest.feature_importances_[:len(X.columns)]\n",
    "   feat_imp_shadow = forest.feature_importances_[len(X.columns):]\n",
    "   ### compute hits for this trial and add to counter\n",
    "   hits += (feat_imp_X > feat_imp_shadow.max())\n",
    "print(hits)"
   ]
  },
  {
   "cell_type": "code",
   "execution_count": 43,
   "metadata": {},
   "outputs": [
    {
     "data": {
      "text/plain": [
       "[9.5367431640625e-07,\n",
       " 1.9073486328125e-05,\n",
       " 0.0001811981201171875,\n",
       " 0.0010871887207031235,\n",
       " 0.004620552062988286,\n",
       " 0.014785766601562505,\n",
       " 0.03696441650390626,\n",
       " 0.07392883300781253,\n",
       " 0.12013435363769544,\n",
       " 0.16017913818359386,\n",
       " 0.1761970520019531,\n",
       " 0.16017913818359392,\n",
       " 0.12013435363769544,\n",
       " 0.07392883300781251,\n",
       " 0.03696441650390626,\n",
       " 0.014785766601562505,\n",
       " 0.004620552062988286,\n",
       " 0.0010871887207031233,\n",
       " 0.00018119812011718745,\n",
       " 1.9073486328124997e-05,\n",
       " 9.5367431640625e-07]"
      ]
     },
     "execution_count": 43,
     "metadata": {},
     "output_type": "execute_result"
    }
   ],
   "source": [
    "import scipy\n",
    "\n",
    "trials = 20\n",
    "pmf = [scipy.stats.binom.pmf(x, trials, .5) for x in range(trials + 1)]\n",
    "pmf"
   ]
  },
  {
   "cell_type": "code",
   "execution_count": 44,
   "metadata": {},
   "outputs": [],
   "source": [
    "# !pip install boruta"
   ]
  },
  {
   "cell_type": "code",
   "execution_count": 59,
   "metadata": {},
   "outputs": [
    {
     "name": "stdout",
     "output_type": "stream",
     "text": [
      "int64\n",
      "int64\n"
     ]
    },
    {
     "ename": "NameError",
     "evalue": "name 'int_' is not defined",
     "output_type": "error",
     "traceback": [
      "\u001b[0;31m---------------------------------------------------------------------------\u001b[0m",
      "\u001b[0;31mNameError\u001b[0m                                 Traceback (most recent call last)",
      "\u001b[1;32m/Users/jiaoxubin/Desktop/Github/Work-Projects/Boruta-algorithm/test.ipynb 单元格 9\u001b[0m line \u001b[0;36m<cell line: 19>\u001b[0;34m()\u001b[0m\n\u001b[1;32m     <a href='vscode-notebook-cell:/Users/jiaoxubin/Desktop/Github/Work-Projects/Boruta-algorithm/test.ipynb#X11sZmlsZQ%3D%3D?line=15'>16</a>\u001b[0m \u001b[39mprint\u001b[39m(np\u001b[39m.\u001b[39marray(y)\u001b[39m.\u001b[39mdtype)\n\u001b[1;32m     <a href='vscode-notebook-cell:/Users/jiaoxubin/Desktop/Github/Work-Projects/Boruta-algorithm/test.ipynb#X11sZmlsZQ%3D%3D?line=17'>18</a>\u001b[0m \u001b[39m### fit Boruta (it accepts np.array, not pd.DataFrame)\u001b[39;00m\n\u001b[0;32m---> <a href='vscode-notebook-cell:/Users/jiaoxubin/Desktop/Github/Work-Projects/Boruta-algorithm/test.ipynb#X11sZmlsZQ%3D%3D?line=18'>19</a>\u001b[0m boruta\u001b[39m.\u001b[39mfit(np\u001b[39m.\u001b[39marray(X,dtype\u001b[39m=\u001b[39mint_), np\u001b[39m.\u001b[39marray(y,dtype\u001b[39m=\u001b[39mint_))\n\u001b[1;32m     <a href='vscode-notebook-cell:/Users/jiaoxubin/Desktop/Github/Work-Projects/Boruta-algorithm/test.ipynb#X11sZmlsZQ%3D%3D?line=20'>21</a>\u001b[0m \u001b[39m### print results\u001b[39;00m\n\u001b[1;32m     <a href='vscode-notebook-cell:/Users/jiaoxubin/Desktop/Github/Work-Projects/Boruta-algorithm/test.ipynb#X11sZmlsZQ%3D%3D?line=21'>22</a>\u001b[0m green_area \u001b[39m=\u001b[39m X\u001b[39m.\u001b[39mcolumns[boruta\u001b[39m.\u001b[39msupport_]\u001b[39m.\u001b[39mto_list()\n",
      "\u001b[0;31mNameError\u001b[0m: name 'int_' is not defined"
     ]
    }
   ],
   "source": [
    "from boruta import BorutaPy\n",
    "from sklearn.ensemble import RandomForestRegressor\n",
    "import numpy as np\n",
    "###initialize Boruta\n",
    "forest = RandomForestRegressor(\n",
    "   n_jobs = -1, \n",
    "   max_depth = 5\n",
    ")\n",
    "\n",
    "boruta = BorutaPy(\n",
    "   estimator = forest, \n",
    "   n_estimators = 'auto',\n",
    "   max_iter = 100 # number of trials to perform\n",
    ")\n",
    "print(np.array(X).dtype)\n",
    "print(np.array(y).dtype)\n",
    "\n",
    "### fit Boruta (it accepts np.array, not pd.DataFrame)\n",
    "boruta.fit(np.array(X), np.array(y))\n",
    "\n",
    "### print results\n",
    "green_area = X.columns[boruta.support_].to_list()\n",
    "blue_area = X.columns[boruta.support_weak_].to_list()\n",
    "print('features in the green area:', green_area)\n",
    "print('features in the blue area:', blue_area)"
   ]
  }
 ],
 "metadata": {
  "kernelspec": {
   "display_name": "base",
   "language": "python",
   "name": "python3"
  },
  "language_info": {
   "codemirror_mode": {
    "name": "ipython",
    "version": 3
   },
   "file_extension": ".py",
   "mimetype": "text/x-python",
   "name": "python",
   "nbconvert_exporter": "python",
   "pygments_lexer": "ipython3",
   "version": "3.9.13"
  },
  "orig_nbformat": 4
 },
 "nbformat": 4,
 "nbformat_minor": 2
}
